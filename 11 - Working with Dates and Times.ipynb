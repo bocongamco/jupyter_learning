{
 "cells": [
  {
   "cell_type": "markdown",
   "metadata": {},
   "source": [
    "# Working with Dates and Times"
   ]
  },
  {
   "cell_type": "code",
   "execution_count": 2,
   "metadata": {
    "scrolled": true
   },
   "outputs": [],
   "source": [
    "import pandas as pd\n",
    "import datetime  as dt"
   ]
  },
  {
   "cell_type": "markdown",
   "metadata": {},
   "source": [
    "## Review of Python's datetime Module\n",
    "- The `datetime` module is built into the core Python programming language.\n",
    "- The common alias for the `datetime` module is `dt`.\n",
    "- A module is a Python source file; think of like an internal library that Python loads on demand.\n",
    "- The `datetime` module includes `date` and `datetime` classes for representing dates and datetimes.\n",
    "- The `date` constructor accepts arguments for year, month, and day. Python defaults to 0 for any missing values.\n",
    "- The `datetime` constructor accepts arguments for year, month, day, hour, minute, and second."
   ]
  },
  {
   "cell_type": "code",
   "execution_count": 8,
   "metadata": {},
   "outputs": [
    {
     "data": {
      "text/plain": [
       "datetime.datetime(2025, 12, 15, 8, 30, 50)"
      ]
     },
     "execution_count": 8,
     "metadata": {},
     "output_type": "execute_result"
    }
   ],
   "source": [
    "someday = dt.date(2025,12,15)\n",
    "\n",
    "dt.datetime(2025,12,15)\n",
    "dt.datetime(2025,12,15,8)\n",
    "dt.datetime(2025,12,15,8,30)\n",
    "dt.datetime(2025,12,15,8,30,50)"
   ]
  },
  {
   "cell_type": "code",
   "execution_count": null,
   "metadata": {},
   "outputs": [],
   "source": []
  },
  {
   "cell_type": "code",
   "execution_count": null,
   "metadata": {},
   "outputs": [],
   "source": []
  },
  {
   "cell_type": "code",
   "execution_count": null,
   "metadata": {},
   "outputs": [],
   "source": []
  },
  {
   "cell_type": "markdown",
   "metadata": {},
   "source": [
    "## The Timestamp and DatetimeIndex Objects\n",
    "\n",
    "- Pandas ships with several classes related to datetimes.\n",
    "- The **Timestamp** is similar to Python's **datetime** object (but with expanded functionality).\n",
    "- A **DatetimeIndex** is an index of **Timestamp** objects.\n",
    "- The **Timestamp** constructor accepts a string, a **datetime** object, or equivalent arguments to the **datetime** clas."
   ]
  },
  {
   "cell_type": "code",
   "execution_count": 26,
   "metadata": {
    "scrolled": true
   },
   "outputs": [
    {
     "data": {
      "text/plain": [
       "DatetimeIndex(['2026-01-10', '2026-01-02'], dtype='datetime64[ns]', freq=None)"
      ]
     },
     "execution_count": 26,
     "metadata": {},
     "output_type": "execute_result"
    }
   ],
   "source": [
    "pd.Timestamp(2027,3,12)\n",
    "pd.Timestamp(2027,3,12,18,23,49)\n",
    "pd.Timestamp(2027,3,12,18,23,49)\n",
    "pd.Timestamp(dt.datetime(2027,10,23,14,35))\n",
    "pd.Timestamp(\"2025-01-01\")\n",
    "pd.Timestamp(\"2025/04/01\")\n",
    "\n",
    "\n",
    "pd.Series([pd.Timestamp(\"2021-03-08 08:35:15\")]).iloc[0]\n",
    "pd.DatetimeIndex([\"2025-01-01\",\"2025-02-01\",\"2025-03-01\"])\n",
    "\n",
    "pd.DatetimeIndex([\n",
    "    dt.date(2026,1,10),\n",
    "    dt.date(2026,1,2)\n",
    "])"
   ]
  },
  {
   "cell_type": "code",
   "execution_count": null,
   "metadata": {},
   "outputs": [],
   "source": []
  },
  {
   "cell_type": "code",
   "execution_count": null,
   "metadata": {},
   "outputs": [],
   "source": []
  },
  {
   "cell_type": "code",
   "execution_count": null,
   "metadata": {},
   "outputs": [],
   "source": []
  },
  {
   "cell_type": "markdown",
   "metadata": {},
   "source": [
    "## Create Range of Dates with pd.date_range Function\n",
    "- The `date_range` function generates and returns a **DatetimeIndex** holding a sequence of dates.\n",
    "- The function requires 2 of the 3 following parameters: `start`, `end`, and `period`.\n",
    "- With `start` and `end`, Pandas will assume a daily period/interval.\n",
    "- Every element within a **DatetimeIndex** is a **Timestamp**."
   ]
  },
  {
   "cell_type": "code",
   "execution_count": 14,
   "metadata": {},
   "outputs": [
    {
     "data": {
      "text/plain": [
       "DatetimeIndex(['2012-09-09', '2012-09-10', '2012-09-11', '2012-09-12',\n",
       "               '2012-09-13', '2012-09-14', '2012-09-15', '2012-09-16',\n",
       "               '2012-09-17', '2012-09-18', '2012-09-19', '2012-09-20',\n",
       "               '2012-09-21', '2012-09-22', '2012-09-23', '2012-09-24',\n",
       "               '2012-09-25', '2012-09-26', '2012-09-27', '2012-09-28',\n",
       "               '2012-09-29', '2012-09-30', '2012-10-01', '2012-10-02',\n",
       "               '2012-10-03'],\n",
       "              dtype='datetime64[ns]', freq='D')"
      ]
     },
     "execution_count": 14,
     "metadata": {},
     "output_type": "execute_result"
    }
   ],
   "source": [
    "# pd.date_range(start=\"2025-01-01\",end=\"2025-01-07\")\n",
    "pd.date_range(start=\"2025-01-01\",end=\"2025-01-07\",freq=\"D\")\n",
    "pd.date_range(start=\"2025-01-01\",end=\"2025-01-07\",freq=\"2D\")\n",
    "pd.date_range(start=\"2025-01-01\",end=\"2025-01-07\",freq=\"B\") #Business days - Monday-Friday\n",
    "pd.date_range(start=\"2025-01-01\",end=\"2025-01-07\",freq=\"W\") #1Week after\n",
    "pd.date_range(start=\"2025-01-01\",end=\"2025-01-07\",freq=\"W\") #1Week after\n",
    "pd.date_range(start=\"2025-01-01\",end=\"2025-01-31\",freq=\"W-FRI\") #1Week after\n",
    "\n",
    "\n",
    "pd.date_range(start=\"2025-01-01\",end=\"2025-01-31\",freq=\"H\") #Hour\n",
    "\n",
    "pd.date_range(start=\"2012-09-09\",freq=\"D\",periods=25)"
   ]
  },
  {
   "cell_type": "code",
   "execution_count": null,
   "metadata": {},
   "outputs": [],
   "source": []
  },
  {
   "cell_type": "code",
   "execution_count": null,
   "metadata": {},
   "outputs": [],
   "source": []
  },
  {
   "cell_type": "code",
   "execution_count": null,
   "metadata": {},
   "outputs": [],
   "source": []
  },
  {
   "cell_type": "markdown",
   "metadata": {},
   "source": [
    "## The dt Attribute\n",
    "- The `dt` attribute reveals a `DatetimeProperties` object with attributes/methods for working with datetimes. It is similar to the `str` attribute for string methods.\n",
    "- The `DatetimeProperties` object has attributes like `day`, `month`, and `year` to reveal information about each date in the **Series**.\n",
    "- The `day_name` method returns the written day of the week.\n",
    "- Attributes like `is_month_end` and `is_quarter_start` return Boolean **Series**."
   ]
  },
  {
   "cell_type": "code",
   "execution_count": null,
   "metadata": {},
   "outputs": [],
   "source": []
  },
  {
   "cell_type": "code",
   "execution_count": null,
   "metadata": {},
   "outputs": [],
   "source": []
  },
  {
   "cell_type": "code",
   "execution_count": null,
   "metadata": {},
   "outputs": [],
   "source": []
  },
  {
   "cell_type": "code",
   "execution_count": null,
   "metadata": {},
   "outputs": [],
   "source": []
  },
  {
   "cell_type": "markdown",
   "metadata": {},
   "source": [
    "## Selecting Rows from a DataFrame with a DateTimeIndex\n",
    "- The `iloc` accessor is available for index position-based extraction.\n",
    "- The `loc` accessor accepts strings or **Timestamps** to extract by index label/value. Note that Python's `datetime` objects will not work.\n",
    "- Use list slicing to extract a sequence of dates. The `truncate` method is another alternative."
   ]
  },
  {
   "cell_type": "code",
   "execution_count": null,
   "metadata": {},
   "outputs": [],
   "source": []
  },
  {
   "cell_type": "code",
   "execution_count": null,
   "metadata": {},
   "outputs": [],
   "source": []
  },
  {
   "cell_type": "code",
   "execution_count": null,
   "metadata": {},
   "outputs": [],
   "source": []
  },
  {
   "cell_type": "code",
   "execution_count": null,
   "metadata": {},
   "outputs": [],
   "source": []
  },
  {
   "cell_type": "markdown",
   "metadata": {},
   "source": [
    "## The DateOffset Object\n",
    "- A **DateOffset** object adds time to a **Timestamp** to arrive at a new **Timestamp**.\n",
    "- The **DateOffset** constructor accepts `days`, `weeks`, `months`, `years` parameters, and more.\n",
    "- We can pass a **DateOffset** object to the `freq` parameter of the `pd.date_range` function."
   ]
  },
  {
   "cell_type": "code",
   "execution_count": null,
   "metadata": {},
   "outputs": [],
   "source": []
  },
  {
   "cell_type": "code",
   "execution_count": null,
   "metadata": {},
   "outputs": [],
   "source": []
  },
  {
   "cell_type": "code",
   "execution_count": null,
   "metadata": {},
   "outputs": [],
   "source": []
  },
  {
   "cell_type": "code",
   "execution_count": null,
   "metadata": {},
   "outputs": [],
   "source": []
  },
  {
   "cell_type": "markdown",
   "metadata": {},
   "source": [
    "## Specialized Date Offsets\n",
    "- Pandas nests more specialized date offsets in `pd.tseries.offsets`.\n",
    "- We can add a different amount of time to each date (for example, month end, quarter end, year begin)"
   ]
  },
  {
   "cell_type": "code",
   "execution_count": null,
   "metadata": {},
   "outputs": [],
   "source": []
  },
  {
   "cell_type": "code",
   "execution_count": null,
   "metadata": {},
   "outputs": [],
   "source": []
  },
  {
   "cell_type": "code",
   "execution_count": null,
   "metadata": {},
   "outputs": [],
   "source": []
  },
  {
   "cell_type": "code",
   "execution_count": null,
   "metadata": {},
   "outputs": [],
   "source": []
  },
  {
   "cell_type": "markdown",
   "metadata": {},
   "source": [
    "## Timedeltas\n",
    "- A **Timedelta** is a pandas object that represents a duration (an amount of time).\n",
    "- Subtracting two **Timestamp** objects will yield a **Timedelta** object (this applies to subtracting a **Series** from another **Series**).\n",
    "- The **Timedelta** constructor accepts parameters for time as well as string descriptions."
   ]
  },
  {
   "cell_type": "code",
   "execution_count": null,
   "metadata": {},
   "outputs": [],
   "source": []
  },
  {
   "cell_type": "code",
   "execution_count": null,
   "metadata": {},
   "outputs": [],
   "source": []
  },
  {
   "cell_type": "code",
   "execution_count": null,
   "metadata": {},
   "outputs": [],
   "source": []
  },
  {
   "cell_type": "code",
   "execution_count": null,
   "metadata": {},
   "outputs": [],
   "source": []
  },
  {
   "cell_type": "code",
   "execution_count": null,
   "metadata": {},
   "outputs": [],
   "source": []
  },
  {
   "cell_type": "code",
   "execution_count": null,
   "metadata": {},
   "outputs": [],
   "source": []
  },
  {
   "cell_type": "code",
   "execution_count": null,
   "metadata": {},
   "outputs": [],
   "source": []
  }
 ],
 "metadata": {
  "anaconda-cloud": {},
  "kernelspec": {
   "display_name": "Python 3 (ipykernel)",
   "language": "python",
   "name": "python3"
  },
  "language_info": {
   "codemirror_mode": {
    "name": "ipython",
    "version": 3
   },
   "file_extension": ".py",
   "mimetype": "text/x-python",
   "name": "python",
   "nbconvert_exporter": "python",
   "pygments_lexer": "ipython3",
   "version": "3.11.7"
  }
 },
 "nbformat": 4,
 "nbformat_minor": 4
}
